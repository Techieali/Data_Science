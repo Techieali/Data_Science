{
  "nbformat": 4,
  "nbformat_minor": 0,
  "metadata": {
    "kernelspec": {
      "display_name": "Python 3",
      "language": "python",
      "name": "python3"
    },
    "language_info": {
      "codemirror_mode": {
        "name": "ipython",
        "version": 3
      },
      "file_extension": ".py",
      "mimetype": "text/x-python",
      "name": "python",
      "nbconvert_exporter": "python",
      "pygments_lexer": "ipython3",
      "version": "3.5.2"
    },
    "colab": {
      "name": "python for data science.ipynb",
      "provenance": [],
      "include_colab_link": true
    }
  },
  "cells": [
    {
      "cell_type": "markdown",
      "metadata": {
        "id": "view-in-github",
        "colab_type": "text"
      },
      "source": [
        "<a href=\"https://colab.research.google.com/github/Techieali/Data_Science/blob/master/python_for_data_science.ipynb\" target=\"_parent\"><img src=\"https://colab.research.google.com/assets/colab-badge.svg\" alt=\"Open In Colab\"/></a>"
      ]
    },
    {
      "cell_type": "code",
      "metadata": {
        "id": "sCcpuvVQLpn5",
        "colab_type": "code",
        "colab": {}
      },
      "source": [
        "x={'ali': '9562000564' , 'aysha':'7736780120'}\n",
        "x['ali']"
      ],
      "execution_count": 0,
      "outputs": []
    },
    {
      "cell_type": "code",
      "metadata": {
        "id": "Xn2HDQkmLpn_",
        "colab_type": "code",
        "colab": {}
      },
      "source": [
        "for name in x:\n",
        "    print (x[name])"
      ],
      "execution_count": 0,
      "outputs": []
    },
    {
      "cell_type": "code",
      "metadata": {
        "id": "Ur2di0c-LpoF",
        "colab_type": "code",
        "colab": {}
      },
      "source": [
        "for name,number in x.items():\n",
        "    print(name,number)"
      ],
      "execution_count": 0,
      "outputs": []
    },
    {
      "cell_type": "markdown",
      "metadata": {
        "id": "dNUz3Zj6LpoJ",
        "colab_type": "text"
      },
      "source": [
        "# String_Operation In Dictionary"
      ]
    },
    {
      "cell_type": "code",
      "metadata": {
        "id": "Z5lziMEpLpoL",
        "colab_type": "code",
        "colab": {}
      },
      "source": [
        "Sales_record = {\"price\" : 240, \"num_items\" : 4 , \"person\" : \"Ali\"}\n",
        "sales_statement = \"{} brought {} items at a price of {} each for a total of {}\"\n"
      ],
      "execution_count": 0,
      "outputs": []
    },
    {
      "cell_type": "code",
      "metadata": {
        "id": "d64y5QdVLpoP",
        "colab_type": "code",
        "colab": {}
      },
      "source": [
        "x= sales_statement.format(Sales_record['person'],Sales_record['num_items'],Sales_record['price'], Sales_record['num_items']* Sales_record['price'])"
      ],
      "execution_count": 0,
      "outputs": []
    },
    {
      "cell_type": "code",
      "metadata": {
        "id": "A1FkBO-iLpoU",
        "colab_type": "code",
        "colab": {}
      },
      "source": [
        "print(x)"
      ],
      "execution_count": 0,
      "outputs": []
    },
    {
      "cell_type": "markdown",
      "metadata": {
        "id": "F2BKcuphLpoY",
        "colab_type": "text"
      },
      "source": [
        "# Object and map\n",
        "## Class"
      ]
    },
    {
      "cell_type": "code",
      "metadata": {
        "id": "cjIH7whBLpoZ",
        "colab_type": "code",
        "colab": {}
      },
      "source": [
        "class Person:\n",
        "    department = 'School of information'\n",
        "    \n",
        "    def set_name(self, new_name):\n",
        "        self.name = new_name\n",
        "    def set_location(self, new_location):\n",
        "        self.location = new_location\n",
        "    "
      ],
      "execution_count": 0,
      "outputs": []
    },
    {
      "cell_type": "code",
      "metadata": {
        "id": "KA4OkxAiLpog",
        "colab_type": "code",
        "colab": {}
      },
      "source": [
        "person = Person()\n",
        "person.set_name = ('maharuf')\n",
        "person.set_location = ('trivandrum')\n",
        "print('{} live in {} and worked in {}'.format(person.set_name, person.set_location, person.department))"
      ],
      "execution_count": 0,
      "outputs": []
    },
    {
      "cell_type": "code",
      "metadata": {
        "id": "mKhH0hjqLpol",
        "colab_type": "code",
        "colab": {}
      },
      "source": [
        "store1 = [10.00, 11.00, 12.34, 2.34]\n",
        "store2 = [9.00, 11.10, 12.34, 2.01]\n",
        "cheapest = map(min,store1,store2)\n",
        "print(cheapest)"
      ],
      "execution_count": 0,
      "outputs": []
    },
    {
      "cell_type": "code",
      "metadata": {
        "id": "qRJx2sZoLpoq",
        "colab_type": "code",
        "colab": {}
      },
      "source": [
        "maping = map(store1,store2)\n",
        "print(maping)"
      ],
      "execution_count": 0,
      "outputs": []
    },
    {
      "cell_type": "code",
      "metadata": {
        "id": "uApudkx8Lpow",
        "colab_type": "code",
        "colab": {}
      },
      "source": [
        "people = ['Dr. Christopher Brooks', 'Dr. Kevyn Collins-Thompson', 'Dr. VG Vinod Vydiswaran', 'Dr. Daniel Romero']\n",
        "for\n",
        "    print(people)"
      ],
      "execution_count": 0,
      "outputs": []
    },
    {
      "cell_type": "code",
      "metadata": {
        "id": "FOaL9kSzLpo0",
        "colab_type": "code",
        "colab": {}
      },
      "source": [
        "people = ['Dr. Christopher Brooks', 'Dr. Kevyn Collins-Thompson', 'Dr. VG Vinod Vydiswaran', 'Dr. Daniel Romero']\n",
        "\n",
        "def split_title_and_name(person):\n",
        "    title = person.split()[0]\n",
        "    lastname = person.split()[-1]\n",
        "    return '{} {}'.format(title, lastname)\n",
        "\n",
        "list(map(split_title_and_name, people))"
      ],
      "execution_count": 0,
      "outputs": []
    },
    {
      "cell_type": "code",
      "metadata": {
        "id": "UuI1QL4wLpo4",
        "colab_type": "code",
        "colab": {}
      },
      "source": [
        "def name1_and_name2(person):\n",
        "    name1 = person.split()[1]\n",
        "    name2 = person.split()[-1]\n",
        "    return '{} {}'.format(name1, name2)\n",
        "names = list(map(name1_and_name2 ,people))\n",
        "print(names)"
      ],
      "execution_count": 0,
      "outputs": []
    },
    {
      "cell_type": "markdown",
      "metadata": {
        "id": "MR5fcrcgLpo9",
        "colab_type": "text"
      },
      "source": [
        "## lambda and list function"
      ]
    },
    {
      "cell_type": "code",
      "metadata": {
        "id": "GuC2Saj7LppA",
        "colab_type": "code",
        "colab": {}
      },
      "source": [
        "people = ['Dr. Christopher Brooks', 'Dr. Kevyn Collins-Thompson', 'Dr. VG Vinod Vydiswaran', 'Dr. Daniel Romero']\n",
        "\n",
        "def split_title_and_name(person):\n",
        "    return person.split()[0] + ' ' + person.split()[-1]\n",
        "#print(list(map(split_title_and_name, people)))\n",
        "#option 1\n",
        "for person in people:\n",
        "    print(split_title_and_name(person) == (lambda x: x.split()[0] + ' ' + x.split()[-1])(person))\n",
        "\n",
        "#option 20\n",
        "list(map(split_title_and_name, people)) == list(map(lambda person: person.split()[0]+ ' ' + person.split()[-1],people))"
      ],
      "execution_count": 0,
      "outputs": []
    },
    {
      "cell_type": "code",
      "metadata": {
        "id": "W0AvwIumLppE",
        "colab_type": "code",
        "colab": {}
      },
      "source": [
        "my_list = []\n",
        "for number in range(0,1000):\n",
        "    if number % 2 != 0 :\n",
        "        my_list.append(number)\n",
        "        \n",
        "my_list\n",
        "max(my_list)"
      ],
      "execution_count": 0,
      "outputs": []
    },
    {
      "cell_type": "code",
      "metadata": {
        "id": "4_QpAG8ZLppI",
        "colab_type": "code",
        "colab": {}
      },
      "source": [
        "my_list = [number for number in range (0,1000) if number % 2 == 0]\n",
        "my_list"
      ],
      "execution_count": 0,
      "outputs": []
    },
    {
      "cell_type": "markdown",
      "metadata": {
        "id": "ucBtV4q5LppP",
        "colab_type": "text"
      },
      "source": [
        "## converting a function in to list comperhention"
      ]
    },
    {
      "cell_type": "code",
      "metadata": {
        "id": "rNI4rUn-LppQ",
        "colab_type": "code",
        "colab": {}
      },
      "source": [
        "def times_tables():\n",
        "    lst = []\n",
        "    for i in range(10):\n",
        "        for j in range (10):\n",
        "            lst.append(i*j)\n",
        "    return lst\n",
        "#print(times_tables)\n",
        "times_tables() == [i*j for i in range(10) for j in range(10) ]"
      ],
      "execution_count": 0,
      "outputs": []
    },
    {
      "cell_type": "code",
      "metadata": {
        "id": "AE58N5grLppV",
        "colab_type": "code",
        "colab": {}
      },
      "source": [
        "lowercase = 'abcdefghijklmnopqrstuvwxyz'\n",
        "digits = '0123456789'\n",
        "\n",
        "def correct_answer():\n",
        "    ctt = []\n",
        "    for i in range(26):\n",
        "        for j in range(26):\n",
        "            for k in range(9):\n",
        "                for l in range(9):\n",
        "                        ctt.append(lowercase[i]+lowercase[j]+digits[k]+digits[l])\n",
        "    return ctt\n",
        "print(correct_answer())\n",
        "corret_answer = correct_answer()\n",
        "answer = [lowercase[i]+lowercase[j]+digits[k]+digits[l] for i in range(26) for j in range(26) for k in range(9) for l in range(9)] \n",
        "corret_answer == answer"
      ],
      "execution_count": 0,
      "outputs": []
    },
    {
      "cell_type": "code",
      "metadata": {
        "id": "hICP3f3ULppa",
        "colab_type": "code",
        "colab": {}
      },
      "source": [
        "correct_answer = [a+b+c+d for a in lowercase for b in lowercase for c in digits for d in digits]\n",
        "print(correct_answer[:50])"
      ],
      "execution_count": 0,
      "outputs": []
    },
    {
      "cell_type": "markdown",
      "metadata": {
        "id": "knfKYWsLLppg",
        "colab_type": "text"
      },
      "source": [
        "## Numpy"
      ]
    },
    {
      "cell_type": "code",
      "metadata": {
        "id": "naBNUAS1Lpph",
        "colab_type": "code",
        "colab": {}
      },
      "source": [
        "import numpy as np"
      ],
      "execution_count": 0,
      "outputs": []
    },
    {
      "cell_type": "code",
      "metadata": {
        "id": "dataF6VGLppn",
        "colab_type": "code",
        "colab": {}
      },
      "source": [
        "my_list = [1, 2, 3]\n",
        "x= np.array(my_list)\n",
        "x"
      ],
      "execution_count": 0,
      "outputs": []
    },
    {
      "cell_type": "code",
      "metadata": {
        "id": "1lOgyRl-Lppr",
        "colab_type": "code",
        "colab": {}
      },
      "source": [
        "m = np.array([[5, 6, 7],[8, 9, 10]])\n",
        "m"
      ],
      "execution_count": 0,
      "outputs": []
    },
    {
      "cell_type": "code",
      "metadata": {
        "id": "UFFiwFmTLppz",
        "colab_type": "code",
        "colab": {}
      },
      "source": [
        "m.shape"
      ],
      "execution_count": 0,
      "outputs": []
    },
    {
      "cell_type": "code",
      "metadata": {
        "id": "p4Gx1utxLpp3",
        "colab_type": "code",
        "colab": {}
      },
      "source": [
        "n = np.arange(0, 30, 2)\n",
        "n"
      ],
      "execution_count": 0,
      "outputs": []
    },
    {
      "cell_type": "code",
      "metadata": {
        "id": "miVdFbxPLpp7",
        "colab_type": "code",
        "colab": {}
      },
      "source": [
        "n= n.reshape(3,5)\n",
        "n"
      ],
      "execution_count": 0,
      "outputs": []
    },
    {
      "cell_type": "code",
      "metadata": {
        "id": "bCifXXdpLpqC",
        "colab_type": "code",
        "colab": {}
      },
      "source": [
        "o = np.linspace(0, 4, 9)\n",
        "o"
      ],
      "execution_count": 0,
      "outputs": []
    },
    {
      "cell_type": "code",
      "metadata": {
        "id": "BsRbzD8GLpqH",
        "colab_type": "code",
        "colab": {}
      },
      "source": [
        "o.resize(3, 3)\n",
        "o"
      ],
      "execution_count": 0,
      "outputs": []
    },
    {
      "cell_type": "code",
      "metadata": {
        "id": "ycEwj2iOLpqL",
        "colab_type": "code",
        "colab": {}
      },
      "source": [
        "np.ones((3, 2))\n"
      ],
      "execution_count": 0,
      "outputs": []
    },
    {
      "cell_type": "code",
      "metadata": {
        "id": "Hn_ozZBfLpqP",
        "colab_type": "code",
        "colab": {}
      },
      "source": [
        "np.zeros((3, 2))"
      ],
      "execution_count": 0,
      "outputs": []
    },
    {
      "cell_type": "code",
      "metadata": {
        "id": "MBHfTP9CLpqW",
        "colab_type": "code",
        "colab": {}
      },
      "source": [
        "np.eye(3)"
      ],
      "execution_count": 0,
      "outputs": []
    },
    {
      "cell_type": "code",
      "metadata": {
        "id": "c72MNj2NLpqb",
        "colab_type": "code",
        "colab": {}
      },
      "source": [
        "np.diag(o)"
      ],
      "execution_count": 0,
      "outputs": []
    },
    {
      "cell_type": "code",
      "metadata": {
        "id": "8MYpoAgGLpqh",
        "colab_type": "code",
        "colab": {}
      },
      "source": [
        ""
      ],
      "execution_count": 0,
      "outputs": []
    }
  ]
}